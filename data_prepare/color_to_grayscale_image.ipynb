{
 "cells": [
  {
   "cell_type": "code",
   "id": "initial_id",
   "metadata": {
    "collapsed": true,
    "ExecuteTime": {
     "end_time": "2024-10-17T14:25:43.327982Z",
     "start_time": "2024-10-17T14:25:08.784983Z"
    }
   },
   "source": [
    "import os\n",
    "import shutil\n",
    "from tqdm import tqdm\n",
    "\n",
    "\n",
    "def split_dataset(input_dir, train_dir, test_dir):\n",
    "    # 确保训练和测试文件夹存在\n",
    "    if not os.path.exists(train_dir):\n",
    "        os.makedirs(train_dir)\n",
    "    if not os.path.exists(test_dir):\n",
    "        os.makedirs(test_dir)\n",
    "\n",
    "    # 遍历所有类别文件夹\n",
    "    for category in tqdm(os.listdir(input_dir), desc=\"Iterate through category folders...\"):\n",
    "        category_path = os.path.join(input_dir, category)\n",
    "\n",
    "        if os.path.isdir(category_path):\n",
    "            # 获取当前类别文件夹中的所有图片文件，并按文件名排序\n",
    "            files = sorted([f for f in os.listdir(category_path) if f.endswith('.jpg')])\n",
    "\n",
    "            train_files = files[:560]  # 将001-560的图片复制到训练集\n",
    "            test_files = files[560:700]  # 将561-700的图片复制到测试集\n",
    "\n",
    "            # 复制训练集图片\n",
    "            for file in train_files:\n",
    "                src_file = os.path.join(category_path, file)\n",
    "                dst_file = os.path.join(train_dir, f\"{category}_{file}\")  # 将类别名作为文件前缀\n",
    "                shutil.copy(src_file, dst_file)\n",
    "\n",
    "            # 复制测试集图片\n",
    "            for file in test_files:\n",
    "                src_file = os.path.join(category_path, file)\n",
    "                dst_file = os.path.join(test_dir, f\"{category}_{file}\")  # 将类别名作为文件前缀\n",
    "                shutil.copy(src_file, dst_file)\n",
    "\n",
    "    print(\"The dataset has been successfully divided into training set and test set folders!\")\n",
    "\n",
    "\n",
    "# 输入和输出文件夹路径\n",
    "input_dir = \"../dataset/NWPU-RESISC45\"\n",
    "train_dir = \"../dataset/colorization/train/train_color\"\n",
    "test_dir = \"../dataset/colorization/test/test_color\"\n",
    "\n",
    "# 开始划分\n",
    "split_dataset(input_dir, train_dir, test_dir)\n"
   ],
   "outputs": [
    {
     "name": "stderr",
     "output_type": "stream",
     "text": [
      "Iterate through category folders...: 100%|██████████| 45/45 [00:34<00:00,  1.30it/s]"
     ]
    },
    {
     "name": "stdout",
     "output_type": "stream",
     "text": [
      "The dataset has been successfully divided into training set and test set folders!\n"
     ]
    },
    {
     "name": "stderr",
     "output_type": "stream",
     "text": [
      "\n"
     ]
    }
   ],
   "execution_count": 1
  },
  {
   "metadata": {
    "ExecuteTime": {
     "end_time": "2024-10-17T14:34:48.818293Z",
     "start_time": "2024-10-17T14:33:52.470686Z"
    }
   },
   "cell_type": "code",
   "source": [
    "from PIL import Image\n",
    "import os\n",
    "from tqdm import tqdm\n",
    "\n",
    "\n",
    "# 将彩色图像转换为灰度图像，并将其保存在指定目录中\n",
    "def convert_to_grayscale(input_dir, output_dir):\n",
    "    if not os.path.exists(output_dir):\n",
    "        os.makedirs(output_dir)\n",
    "\n",
    "    for filename in tqdm(os.listdir(input_dir), desc=\"Train set image gray scaling...\"):\n",
    "        if filename.endswith(\".jpg\"):\n",
    "            img_path = os.path.join(input_dir, filename)\n",
    "            img = Image.open(img_path).convert(\"L\")  # 将图片转换为灰度模式\n",
    "            gray_filename = f\"{filename}\"  # 给灰度图像新命名，避免覆盖\n",
    "            img.save(os.path.join(output_dir, gray_filename))\n",
    "\n",
    "\n",
    "# 输入目录和输出目录\n",
    "input_dir = \"../dataset/colorization/train/train_color\"\n",
    "output_dir = \"../dataset/colorization/train/train_grayscale\"\n",
    "\n",
    "convert_to_grayscale(input_dir, output_dir)\n"
   ],
   "id": "194fe1ebec048520",
   "outputs": [
    {
     "name": "stderr",
     "output_type": "stream",
     "text": [
      "Train set image gray scaling...: 100%|██████████| 25200/25200 [00:56<00:00, 447.41it/s]\n"
     ]
    }
   ],
   "execution_count": 3
  },
  {
   "metadata": {
    "ExecuteTime": {
     "end_time": "2024-10-17T14:36:55.233111Z",
     "start_time": "2024-10-17T14:36:39.839155Z"
    }
   },
   "cell_type": "code",
   "source": [
    "from PIL import Image\n",
    "import os\n",
    "from tqdm import tqdm\n",
    "\n",
    "\n",
    "# 将彩色图像转换为灰度图像，并将其保存在指定目录中\n",
    "def convert_to_grayscale(input_dir, output_dir):\n",
    "    if not os.path.exists(output_dir):\n",
    "        os.makedirs(output_dir)\n",
    "\n",
    "    for filename in tqdm(os.listdir(input_dir), desc=\"Test set image gray scaling...\"):\n",
    "        if filename.endswith(\".jpg\"):\n",
    "            img_path = os.path.join(input_dir, filename)\n",
    "            img = Image.open(img_path).convert(\"L\")  # 将图片转换为灰度模式\n",
    "            gray_filename = f\"{filename}\"  # 给灰度图像新命名，避免覆盖\n",
    "            img.save(os.path.join(output_dir, gray_filename))\n",
    "\n",
    "\n",
    "# 输入目录和输出目录\n",
    "input_dir = \"../dataset/colorization/test/test_color\"\n",
    "output_dir = \"../dataset/colorization/test/test_grayscale\"\n",
    "\n",
    "convert_to_grayscale(input_dir, output_dir)\n"
   ],
   "id": "bb105e1c9e98c06",
   "outputs": [
    {
     "name": "stderr",
     "output_type": "stream",
     "text": [
      "Test set image gray scaling...: 100%|██████████| 6300/6300 [00:15<00:00, 409.73it/s]\n"
     ]
    }
   ],
   "execution_count": 4
  }
 ],
 "metadata": {
  "kernelspec": {
   "display_name": "Python 3",
   "language": "python",
   "name": "python3"
  },
  "language_info": {
   "codemirror_mode": {
    "name": "ipython",
    "version": 2
   },
   "file_extension": ".py",
   "mimetype": "text/x-python",
   "name": "python",
   "nbconvert_exporter": "python",
   "pygments_lexer": "ipython2",
   "version": "2.7.6"
  }
 },
 "nbformat": 4,
 "nbformat_minor": 5
}
