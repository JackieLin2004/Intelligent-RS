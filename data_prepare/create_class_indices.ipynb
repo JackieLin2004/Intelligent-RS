{
 "cells": [
  {
   "cell_type": "code",
   "id": "initial_id",
   "metadata": {
    "collapsed": true,
    "ExecuteTime": {
     "end_time": "2024-10-23T04:04:12.155338Z",
     "start_time": "2024-10-23T04:04:12.133236Z"
    }
   },
   "source": [
    "import os\n",
    "import json\n",
    "\n",
    "folder_path = '../dataset/NWPU-RESISC45'\n",
    "\n",
    "# 获取文件夹中的子文件夹名称\n",
    "subfolders = [f for f in os.listdir(folder_path) if os.path.isdir(os.path.join(folder_path, f))]\n",
    "\n",
    "# 创建字典，将子文件夹的名称从 0 开始编号\n",
    "folder_dict = {str(i): subfolders[i] for i in range(len(subfolders))}\n",
    "\n",
    "json_file_path = 'class_indices.json'\n",
    "with open(json_file_path, 'w') as json_file:\n",
    "    json.dump(folder_dict, json_file, indent=4)\n",
    "\n",
    "print(f\"{json_file_path} is saved!\")\n"
   ],
   "outputs": [
    {
     "name": "stdout",
     "output_type": "stream",
     "text": [
      "class_indices.json is saved!\n"
     ]
    }
   ],
   "execution_count": 1
  }
 ],
 "metadata": {
  "kernelspec": {
   "display_name": "Python 3",
   "language": "python",
   "name": "python3"
  },
  "language_info": {
   "codemirror_mode": {
    "name": "ipython",
    "version": 2
   },
   "file_extension": ".py",
   "mimetype": "text/x-python",
   "name": "python",
   "nbconvert_exporter": "python",
   "pygments_lexer": "ipython2",
   "version": "2.7.6"
  }
 },
 "nbformat": 4,
 "nbformat_minor": 5
}
