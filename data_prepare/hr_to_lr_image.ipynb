{
 "cells": [
  {
   "cell_type": "code",
   "id": "initial_id",
   "metadata": {
    "collapsed": true,
    "ExecuteTime": {
     "end_time": "2024-10-18T12:14:49.185856Z",
     "start_time": "2024-10-18T12:14:13.653272Z"
    }
   },
   "source": [
    "import os\n",
    "import shutil\n",
    "from tqdm import tqdm\n",
    "\n",
    "\n",
    "def split_dataset(input_dir, train_dir, test_dir):\n",
    "    # 确保训练和测试文件夹存在\n",
    "    if not os.path.exists(train_dir):\n",
    "        os.makedirs(train_dir)\n",
    "    if not os.path.exists(test_dir):\n",
    "        os.makedirs(test_dir)\n",
    "\n",
    "    # 遍历所有类别文件夹\n",
    "    for category in tqdm(os.listdir(input_dir), desc=\"Iterate through category folders...\"):\n",
    "        category_path = os.path.join(input_dir, category)\n",
    "\n",
    "        if os.path.isdir(category_path):\n",
    "            # 获取当前类别文件夹中的所有图片文件，并按文件名排序\n",
    "            files = sorted([f for f in os.listdir(category_path) if f.endswith('.jpg')])\n",
    "\n",
    "            train_files = files[:560]  # 将001-560的图片复制到训练集\n",
    "            test_files = files[560:700]  # 将561-700的图片复制到测试集\n",
    "\n",
    "            # 复制训练集图片\n",
    "            for file in train_files:\n",
    "                src_file = os.path.join(category_path, file)\n",
    "                dst_file = os.path.join(train_dir, f\"{category}_{file}\")  # 将类别名作为文件前缀\n",
    "                shutil.copy(src_file, dst_file)\n",
    "\n",
    "            # 复制测试集图片\n",
    "            for file in test_files:\n",
    "                src_file = os.path.join(category_path, file)\n",
    "                dst_file = os.path.join(test_dir, f\"{category}_{file}\")  # 将类别名作为文件前缀\n",
    "                shutil.copy(src_file, dst_file)\n",
    "\n",
    "    print(\"The dataset has been successfully divided into training set and test set folders!\")\n",
    "\n",
    "\n",
    "# 输入和输出文件夹路径\n",
    "input_dir = \"../dataset/NWPU-RESISC45\"\n",
    "train_dir = \"../dataset/super-resolution/train/train_HR\"\n",
    "test_dir = \"../dataset/super-resolution/test/test_HR\"\n",
    "\n",
    "# 开始划分\n",
    "split_dataset(input_dir, train_dir, test_dir)\n"
   ],
   "outputs": [
    {
     "name": "stderr",
     "output_type": "stream",
     "text": [
      "Iterate through category folders...: 100%|██████████| 45/45 [00:35<00:00,  1.27it/s]"
     ]
    },
    {
     "name": "stdout",
     "output_type": "stream",
     "text": [
      "The dataset has been successfully divided into training set and test set folders!\n"
     ]
    },
    {
     "name": "stderr",
     "output_type": "stream",
     "text": [
      "\n"
     ]
    }
   ],
   "execution_count": 1
  },
  {
   "metadata": {
    "ExecuteTime": {
     "end_time": "2024-10-18T12:27:34.734593Z",
     "start_time": "2024-10-18T12:26:33.167663Z"
    }
   },
   "cell_type": "code",
   "source": [
    "import os\n",
    "from PIL import Image\n",
    "from tqdm import tqdm\n",
    "\n",
    "# 生成低分辨率图像\n",
    "def down_sample_images(input_dir, output_dir, scale_factor=2):  # scale_factor为2表示长宽各缩小2，那么分辨率就缩小4\n",
    "    if not os.path.exists(output_dir):\n",
    "        os.makedirs(output_dir)\n",
    "    \n",
    "    for filename in tqdm(os.listdir(input_dir), desc=\"Iterate through down sampled images in train set...\"):\n",
    "        if filename.endswith('.jpg'):\n",
    "            img_path = os.path.join(input_dir, filename)\n",
    "            img = Image.open(img_path)\n",
    "            \n",
    "            # 获取高分辨率图像的尺寸\n",
    "            hr_width, hr_height = img.size\n",
    "            \n",
    "            # 计算低分辨率图像的尺寸\n",
    "            lr_width = hr_width // scale_factor\n",
    "            lr_height = hr_height // scale_factor\n",
    "            \n",
    "            # 生成低分辨率图像\n",
    "            lr_img = img.resize((lr_width, lr_height), Image.BICUBIC)\n",
    "            \n",
    "            # 保存低分辨率图像\n",
    "            lr_img.save(os.path.join(output_dir, filename))\n",
    "\n",
    "# 输入目录（高分辨率图像）和输出目录（低分辨率图像）\n",
    "hr_dir = \"../dataset/super-resolution/train/train_HR\"\n",
    "lr_dir = \"../dataset/super-resolution/train/train_LR\"\n",
    "\n",
    "# 开始生成低分辨率图像，缩小比例为 2\n",
    "down_sample_images(hr_dir, lr_dir, scale_factor=2)\n"
   ],
   "id": "fec2f51611173da5",
   "outputs": [
    {
     "name": "stderr",
     "output_type": "stream",
     "text": [
      "Iterate through down sampled images in train set...: 100%|██████████| 25200/25200 [01:01<00:00, 409.97it/s]\n"
     ]
    }
   ],
   "execution_count": 2
  },
  {
   "metadata": {
    "ExecuteTime": {
     "end_time": "2024-10-18T12:30:20.269067Z",
     "start_time": "2024-10-18T12:30:03.506313Z"
    }
   },
   "cell_type": "code",
   "source": [
    "import os\n",
    "from PIL import Image\n",
    "from tqdm import tqdm\n",
    "\n",
    "# 生成低分辨率图像\n",
    "def down_sample_images(input_dir, output_dir, scale_factor=2):  # scale_factor为2表示长宽各缩小2，那么分辨率就缩小4\n",
    "    if not os.path.exists(output_dir):\n",
    "        os.makedirs(output_dir)\n",
    "    \n",
    "    for filename in tqdm(os.listdir(input_dir), desc=\"Iterate through down sampled images in test set...\"):\n",
    "        if filename.endswith('.jpg'):\n",
    "            img_path = os.path.join(input_dir, filename)\n",
    "            img = Image.open(img_path)\n",
    "            \n",
    "            # 获取高分辨率图像的尺寸\n",
    "            hr_width, hr_height = img.size\n",
    "            \n",
    "            # 计算低分辨率图像的尺寸\n",
    "            lr_width = hr_width // scale_factor\n",
    "            lr_height = hr_height // scale_factor\n",
    "            \n",
    "            # 生成低分辨率图像\n",
    "            lr_img = img.resize((lr_width, lr_height), Image.BICUBIC)\n",
    "            \n",
    "            # 保存低分辨率图像\n",
    "            lr_img.save(os.path.join(output_dir, filename))\n",
    "\n",
    "# 输入目录（高分辨率图像）和输出目录（低分辨率图像）\n",
    "hr_dir = \"../dataset/super-resolution/test/test_HR\"\n",
    "lr_dir = \"../dataset/super-resolution/test/test_LR\"\n",
    "\n",
    "# 开始生成低分辨率图像，缩小比例为 2\n",
    "down_sample_images(hr_dir, lr_dir, scale_factor=2)\n"
   ],
   "id": "3612b51d7ee5df0",
   "outputs": [
    {
     "name": "stderr",
     "output_type": "stream",
     "text": [
      "Iterate through down sampled images in test set...: 100%|██████████| 6300/6300 [00:16<00:00, 376.30it/s]\n"
     ]
    }
   ],
   "execution_count": 3
  }
 ],
 "metadata": {
  "kernelspec": {
   "display_name": "Python 3",
   "language": "python",
   "name": "python3"
  },
  "language_info": {
   "codemirror_mode": {
    "name": "ipython",
    "version": 2
   },
   "file_extension": ".py",
   "mimetype": "text/x-python",
   "name": "python",
   "nbconvert_exporter": "python",
   "pygments_lexer": "ipython2",
   "version": "2.7.6"
  }
 },
 "nbformat": 4,
 "nbformat_minor": 5
}
