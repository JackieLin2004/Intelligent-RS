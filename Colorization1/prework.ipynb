{
 "cells": [
  {
   "cell_type": "code",
   "id": "initial_id",
   "metadata": {
    "collapsed": true,
    "ExecuteTime": {
     "end_time": "2024-12-05T12:44:56.884866Z",
     "start_time": "2024-12-05T12:44:16.313907Z"
    }
   },
   "source": [
    "import os\n",
    "import shutil\n",
    "from tqdm import tqdm\n",
    "\n",
    "\n",
    "source_dir = \"../dataset/NWPU-RESISC45\"\n",
    "train_dir = \"../dataset/colorization_/train\"\n",
    "test_dir = \"../dataset/colorization_/test\"\n",
    "\n",
    "for class_name in os.listdir(source_dir):\n",
    "    class_path = os.path.join(source_dir, class_name)\n",
    "    \n",
    "    if os.path.isdir(class_path):\n",
    "        \n",
    "        train_class_path = os.path.join(train_dir, class_name)\n",
    "        test_class_path = os.path.join(test_dir, class_name)\n",
    "        os.makedirs(train_class_path, exist_ok=True)\n",
    "        os.makedirs(test_class_path, exist_ok=True)\n",
    "\n",
    "        for i in tqdm(range(1, 701), desc=f\"Processing {class_name}\", ncols=100):  # 显示进度条\n",
    "            img_name = f\"{class_name}_{i:03d}.jpg\"\n",
    "            img_path = os.path.join(class_path, img_name)\n",
    "            \n",
    "            if i <= 560:\n",
    "                shutil.copy(img_path, os.path.join(train_class_path, img_name))\n",
    "            else:\n",
    "                shutil.copy(img_path, os.path.join(test_class_path, img_name))\n",
    "\n",
    "print(\"Processing done!\")"
   ],
   "outputs": [
    {
     "name": "stderr",
     "output_type": "stream",
     "text": [
      "Processing airplane: 100%|███████████████████████████████████████| 700/700 [00:01<00:00, 453.62it/s]\n",
      "Processing airport: 100%|████████████████████████████████████████| 700/700 [00:01<00:00, 566.25it/s]\n",
      "Processing baseball_diamond: 100%|███████████████████████████████| 700/700 [00:00<00:00, 874.62it/s]\n",
      "Processing basketball_court: 100%|███████████████████████████████| 700/700 [00:00<00:00, 836.08it/s]\n",
      "Processing beach: 100%|██████████████████████████████████████████| 700/700 [00:00<00:00, 838.39it/s]\n",
      "Processing bridge: 100%|█████████████████████████████████████████| 700/700 [00:00<00:00, 833.80it/s]\n",
      "Processing chaparral: 100%|██████████████████████████████████████| 700/700 [00:00<00:00, 830.26it/s]\n",
      "Processing church: 100%|█████████████████████████████████████████| 700/700 [00:00<00:00, 845.94it/s]\n",
      "Processing circular_farmland: 100%|██████████████████████████████| 700/700 [00:00<00:00, 782.14it/s]\n",
      "Processing cloud: 100%|██████████████████████████████████████████| 700/700 [00:00<00:00, 893.44it/s]\n",
      "Processing commercial_area: 100%|████████████████████████████████| 700/700 [00:00<00:00, 835.80it/s]\n",
      "Processing dense_residential: 100%|██████████████████████████████| 700/700 [00:00<00:00, 843.20it/s]\n",
      "Processing desert: 100%|█████████████████████████████████████████| 700/700 [00:00<00:00, 878.37it/s]\n",
      "Processing forest: 100%|█████████████████████████████████████████| 700/700 [00:00<00:00, 850.59it/s]\n",
      "Processing freeway: 100%|████████████████████████████████████████| 700/700 [00:00<00:00, 815.31it/s]\n",
      "Processing golf_course: 100%|████████████████████████████████████| 700/700 [00:00<00:00, 763.66it/s]\n",
      "Processing ground_track_field: 100%|█████████████████████████████| 700/700 [00:00<00:00, 716.99it/s]\n",
      "Processing harbor: 100%|█████████████████████████████████████████| 700/700 [00:00<00:00, 746.19it/s]\n",
      "Processing industrial_area: 100%|████████████████████████████████| 700/700 [00:00<00:00, 737.75it/s]\n",
      "Processing intersection: 100%|███████████████████████████████████| 700/700 [00:00<00:00, 766.63it/s]\n",
      "Processing island: 100%|█████████████████████████████████████████| 700/700 [00:00<00:00, 784.59it/s]\n",
      "Processing lake: 100%|███████████████████████████████████████████| 700/700 [00:00<00:00, 812.44it/s]\n",
      "Processing meadow: 100%|█████████████████████████████████████████| 700/700 [00:00<00:00, 799.63it/s]\n",
      "Processing medium_residential: 100%|█████████████████████████████| 700/700 [00:00<00:00, 797.00it/s]\n",
      "Processing mobile_home_park: 100%|███████████████████████████████| 700/700 [00:00<00:00, 774.62it/s]\n",
      "Processing mountain: 100%|███████████████████████████████████████| 700/700 [00:01<00:00, 682.91it/s]\n",
      "Processing overpass: 100%|███████████████████████████████████████| 700/700 [00:00<00:00, 799.25it/s]\n",
      "Processing palace: 100%|█████████████████████████████████████████| 700/700 [00:00<00:00, 817.67it/s]\n",
      "Processing parking_lot: 100%|████████████████████████████████████| 700/700 [00:00<00:00, 805.66it/s]\n",
      "Processing railway: 100%|████████████████████████████████████████| 700/700 [00:00<00:00, 823.91it/s]\n",
      "Processing railway_station: 100%|████████████████████████████████| 700/700 [00:00<00:00, 748.49it/s]\n",
      "Processing rectangular_farmland: 100%|███████████████████████████| 700/700 [00:00<00:00, 759.69it/s]\n",
      "Processing river: 100%|██████████████████████████████████████████| 700/700 [00:00<00:00, 782.99it/s]\n",
      "Processing roundabout: 100%|█████████████████████████████████████| 700/700 [00:00<00:00, 798.90it/s]\n",
      "Processing runway: 100%|█████████████████████████████████████████| 700/700 [00:00<00:00, 822.85it/s]\n",
      "Processing sea_ice: 100%|████████████████████████████████████████| 700/700 [00:00<00:00, 806.20it/s]\n",
      "Processing ship: 100%|███████████████████████████████████████████| 700/700 [00:00<00:00, 796.36it/s]\n",
      "Processing snowberg: 100%|███████████████████████████████████████| 700/700 [00:00<00:00, 806.19it/s]\n",
      "Processing sparse_residential: 100%|█████████████████████████████| 700/700 [00:00<00:00, 795.31it/s]\n",
      "Processing stadium: 100%|████████████████████████████████████████| 700/700 [00:00<00:00, 790.82it/s]\n",
      "Processing storage_tank: 100%|███████████████████████████████████| 700/700 [00:00<00:00, 797.98it/s]\n",
      "Processing tennis_court: 100%|███████████████████████████████████| 700/700 [00:00<00:00, 800.73it/s]\n",
      "Processing terrace: 100%|████████████████████████████████████████| 700/700 [00:00<00:00, 775.64it/s]\n",
      "Processing thermal_power_station: 100%|██████████████████████████| 700/700 [00:00<00:00, 806.62it/s]\n",
      "Processing wetland: 100%|████████████████████████████████████████| 700/700 [00:00<00:00, 848.96it/s]"
     ]
    },
    {
     "name": "stdout",
     "output_type": "stream",
     "text": [
      "Processing done!\n"
     ]
    },
    {
     "name": "stderr",
     "output_type": "stream",
     "text": [
      "\n"
     ]
    }
   ],
   "execution_count": 1
  },
  {
   "metadata": {
    "ExecuteTime": {
     "end_time": "2024-12-06T04:00:00.156026Z",
     "start_time": "2024-12-06T03:59:32.678783Z"
    }
   },
   "cell_type": "code",
   "source": [
    "import os\n",
    "from tqdm import tqdm\n",
    "from PIL import Image\n",
    "\n",
    "source_dir = \"../dataset/colorization_/test\"\n",
    "target_dir = \"../dataset/colorization_/test_gray\"\n",
    "\n",
    "# 确保目标文件夹存在\n",
    "os.makedirs(target_dir, exist_ok=True)\n",
    "\n",
    "# 遍历 test 文件夹中的所有子文件夹\n",
    "for class_name in os.listdir(source_dir):\n",
    "    class_path = os.path.join(source_dir, class_name)\n",
    "    \n",
    "    if os.path.isdir(class_path):  # 确保是文件夹而不是文件\n",
    "        target_class_path = os.path.join(target_dir, class_name)\n",
    "        os.makedirs(target_class_path, exist_ok=True)  # 创建目标子文件夹\n",
    "\n",
    "        # 遍历子文件夹中的所有图片\n",
    "        for img_name in tqdm(os.listdir(class_path), desc=f\"Processing {class_name}\", ncols=100):\n",
    "            img_path = os.path.join(class_path, img_name)\n",
    "            \n",
    "            if img_name.endswith(\".jpg\"):  # 只处理 .jpg 文件\n",
    "                # 打开彩色图片\n",
    "                img = Image.open(img_path)\n",
    "                \n",
    "                # 将图片转换为灰度图\n",
    "                gray_img = img.convert(\"L\")  # 'L' 模式表示灰度图\n",
    "                \n",
    "                # 构建灰度图像保存路径\n",
    "                gray_img_path = os.path.join(target_class_path, img_name)\n",
    "                \n",
    "                # 保存灰度图像\n",
    "                gray_img.save(gray_img_path)\n",
    "\n",
    "print(\"Processing done!\")"
   ],
   "id": "7d5b86b259c094e4",
   "outputs": [
    {
     "name": "stderr",
     "output_type": "stream",
     "text": [
      "Processing airplane: 100%|███████████████████████████████████████| 140/140 [00:00<00:00, 185.74it/s]\n",
      "Processing airport: 100%|████████████████████████████████████████| 140/140 [00:00<00:00, 190.71it/s]\n",
      "Processing baseball_diamond: 100%|███████████████████████████████| 140/140 [00:00<00:00, 209.56it/s]\n",
      "Processing basketball_court: 100%|███████████████████████████████| 140/140 [00:00<00:00, 212.59it/s]\n",
      "Processing beach: 100%|██████████████████████████████████████████| 140/140 [00:00<00:00, 200.65it/s]\n",
      "Processing bridge: 100%|█████████████████████████████████████████| 140/140 [00:00<00:00, 203.17it/s]\n",
      "Processing chaparral: 100%|██████████████████████████████████████| 140/140 [00:00<00:00, 249.68it/s]\n",
      "Processing church: 100%|█████████████████████████████████████████| 140/140 [00:00<00:00, 225.65it/s]\n",
      "Processing circular_farmland: 100%|██████████████████████████████| 140/140 [00:00<00:00, 211.04it/s]\n",
      "Processing cloud: 100%|██████████████████████████████████████████| 140/140 [00:00<00:00, 248.02it/s]\n",
      "Processing commercial_area: 100%|████████████████████████████████| 140/140 [00:00<00:00, 241.88it/s]\n",
      "Processing dense_residential: 100%|██████████████████████████████| 140/140 [00:00<00:00, 240.79it/s]\n",
      "Processing desert: 100%|█████████████████████████████████████████| 140/140 [00:00<00:00, 260.40it/s]\n",
      "Processing forest: 100%|█████████████████████████████████████████| 140/140 [00:00<00:00, 217.32it/s]\n",
      "Processing freeway: 100%|████████████████████████████████████████| 140/140 [00:00<00:00, 243.22it/s]\n",
      "Processing golf_course: 100%|████████████████████████████████████| 140/140 [00:00<00:00, 256.47it/s]\n",
      "Processing ground_track_field: 100%|█████████████████████████████| 140/140 [00:00<00:00, 228.99it/s]\n",
      "Processing harbor: 100%|█████████████████████████████████████████| 140/140 [00:00<00:00, 249.37it/s]\n",
      "Processing industrial_area: 100%|████████████████████████████████| 140/140 [00:00<00:00, 241.93it/s]\n",
      "Processing intersection: 100%|███████████████████████████████████| 140/140 [00:00<00:00, 237.55it/s]\n",
      "Processing island: 100%|█████████████████████████████████████████| 140/140 [00:00<00:00, 285.07it/s]\n",
      "Processing lake: 100%|███████████████████████████████████████████| 140/140 [00:00<00:00, 254.23it/s]\n",
      "Processing meadow: 100%|█████████████████████████████████████████| 140/140 [00:00<00:00, 258.97it/s]\n",
      "Processing medium_residential: 100%|█████████████████████████████| 140/140 [00:00<00:00, 219.17it/s]\n",
      "Processing mobile_home_park: 100%|███████████████████████████████| 140/140 [00:00<00:00, 228.48it/s]\n",
      "Processing mountain: 100%|███████████████████████████████████████| 140/140 [00:00<00:00, 240.66it/s]\n",
      "Processing overpass: 100%|███████████████████████████████████████| 140/140 [00:00<00:00, 234.46it/s]\n",
      "Processing palace: 100%|█████████████████████████████████████████| 140/140 [00:00<00:00, 239.41it/s]\n",
      "Processing parking_lot: 100%|████████████████████████████████████| 140/140 [00:00<00:00, 234.74it/s]\n",
      "Processing railway: 100%|████████████████████████████████████████| 140/140 [00:00<00:00, 240.48it/s]\n",
      "Processing railway_station: 100%|████████████████████████████████| 140/140 [00:00<00:00, 239.70it/s]\n",
      "Processing rectangular_farmland: 100%|███████████████████████████| 140/140 [00:00<00:00, 258.58it/s]\n",
      "Processing river: 100%|██████████████████████████████████████████| 140/140 [00:00<00:00, 251.68it/s]\n",
      "Processing roundabout: 100%|█████████████████████████████████████| 140/140 [00:00<00:00, 234.60it/s]\n",
      "Processing runway: 100%|█████████████████████████████████████████| 140/140 [00:00<00:00, 261.13it/s]\n",
      "Processing sea_ice: 100%|████████████████████████████████████████| 140/140 [00:00<00:00, 249.35it/s]\n",
      "Processing ship: 100%|███████████████████████████████████████████| 140/140 [00:00<00:00, 228.98it/s]\n",
      "Processing snowberg: 100%|███████████████████████████████████████| 140/140 [00:00<00:00, 229.87it/s]\n",
      "Processing sparse_residential: 100%|█████████████████████████████| 140/140 [00:00<00:00, 231.50it/s]\n",
      "Processing stadium: 100%|████████████████████████████████████████| 140/140 [00:00<00:00, 238.88it/s]\n",
      "Processing storage_tank: 100%|███████████████████████████████████| 140/140 [00:00<00:00, 245.00it/s]\n",
      "Processing tennis_court: 100%|███████████████████████████████████| 140/140 [00:00<00:00, 239.46it/s]\n",
      "Processing terrace: 100%|████████████████████████████████████████| 140/140 [00:00<00:00, 239.26it/s]\n",
      "Processing thermal_power_station: 100%|██████████████████████████| 140/140 [00:00<00:00, 246.57it/s]\n",
      "Processing wetland: 100%|████████████████████████████████████████| 140/140 [00:00<00:00, 247.74it/s]"
     ]
    },
    {
     "name": "stdout",
     "output_type": "stream",
     "text": [
      "Processing done!\n"
     ]
    },
    {
     "name": "stderr",
     "output_type": "stream",
     "text": [
      "\n"
     ]
    }
   ],
   "execution_count": 1
  }
 ],
 "metadata": {
  "kernelspec": {
   "display_name": "Python 3",
   "language": "python",
   "name": "python3"
  },
  "language_info": {
   "codemirror_mode": {
    "name": "ipython",
    "version": 2
   },
   "file_extension": ".py",
   "mimetype": "text/x-python",
   "name": "python",
   "nbconvert_exporter": "python",
   "pygments_lexer": "ipython2",
   "version": "2.7.6"
  }
 },
 "nbformat": 4,
 "nbformat_minor": 5
}
