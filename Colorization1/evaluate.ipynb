{
 "cells": [
  {
   "cell_type": "code",
   "execution_count": 9,
   "id": "initial_id",
   "metadata": {
    "ExecuteTime": {
     "end_time": "2024-12-07T05:40:19.074002Z",
     "start_time": "2024-12-07T05:40:04.643520Z"
    },
    "tags": []
   },
   "outputs": [
    {
     "name": "stderr",
     "output_type": "stream",
     "text": [
      "Processing: 100%|██████████| 6300/6300 [03:16<00:00, 32.04it/s, PSNR=31.7, SSIM=0.852, Time=0.00503]"
     ]
    },
    {
     "name": "stdout",
     "output_type": "stream",
     "text": [
      "Average PSNR: 30.7328\n",
      "Average SSIM: 0.8653\n",
      "Average Time per sample: 0.0042 seconds\n"
     ]
    },
    {
     "name": "stderr",
     "output_type": "stream",
     "text": [
      "\n"
     ]
    }
   ],
   "source": [
    "import os\n",
    "import time\n",
    "import torch\n",
    "from torch.autograd import Variable\n",
    "from skimage.color import lab2rgb\n",
    "from model import ColorizationNet\n",
    "from img_folder import ValImageFolder\n",
    "import numpy as np\n",
    "import matplotlib.pyplot as plt\n",
    "from skimage.metrics import peak_signal_noise_ratio, structural_similarity\n",
    "from tqdm import tqdm\n",
    "\n",
    "data_dir = \"../dataset/colorization_/test\"\n",
    "gray_dir = \"../dataset/colorization_/test_gray\"\n",
    "have_cuda = torch.cuda.is_available()\n",
    "\n",
    "color_model = ColorizationNet()\n",
    "color_model.load_state_dict(torch.load('./model_best_params.pkl', map_location=torch.device('cpu')))\n",
    "if have_cuda:\n",
    "    color_model.cuda()\n",
    "\n",
    "val_set = ValImageFolder(gray_dir)\n",
    "val_set_size = len(val_set)\n",
    "val_loader = torch.utils.data.DataLoader(val_set, batch_size=1, shuffle=False, num_workers=1)\n",
    "\n",
    "total_psnr = 0.0\n",
    "total_ssim = 0.0\n",
    "total_time = 0.0\n",
    "total_samples = 0\n",
    "\n",
    "def evaluate():\n",
    "    global total_psnr, total_ssim, total_time, total_samples\n",
    "    color_model.eval()\n",
    "\n",
    "    with tqdm(total=val_set_size, desc=\"Processing\") as pbar:\n",
    "        for i, (data, _) in enumerate(val_loader):\n",
    "            original_img = data[0].unsqueeze(1).float()\n",
    "            w = original_img.size()[2]\n",
    "            h = original_img.size()[3]\n",
    "            scale_img = data[1].unsqueeze(1).float()\n",
    "            if have_cuda:\n",
    "                original_img, scale_img = original_img.cuda(), scale_img.cuda()\n",
    "\n",
    "            with torch.no_grad():\n",
    "                original_img, scale_img = Variable(original_img), Variable(scale_img)\n",
    "\n",
    "                start_time = time.time()\n",
    "\n",
    "                _, output = color_model(original_img, scale_img)\n",
    "                color_img = torch.cat((original_img, output[:, :, 0:w, 0:h]), 1)\n",
    "                color_img = color_img.data.cpu().numpy().transpose((0, 2, 3, 1))\n",
    "\n",
    "                end_time = time.time()\n",
    "                elapsed_time = end_time - start_time\n",
    "                total_time += elapsed_time\n",
    "\n",
    "                for img in color_img:\n",
    "                    # 归一化处理\n",
    "                    img[:, :, 0:1] = img[:, :, 0:1] * 100\n",
    "                    img[:, :, 1:3] = img[:, :, 1:3] * 255 - 128\n",
    "                    img = img.astype(np.float64)\n",
    "                    img = lab2rgb(img)\n",
    "\n",
    "                    # 加载对应的原始彩色图像\n",
    "                    original_color_img_path = os.path.join(data_dir, os.path.relpath(val_set.samples[i][0], gray_dir))\n",
    "                    original_color_img_path = os.path.normpath(original_color_img_path)\n",
    "                    original_color_img = plt.imread(original_color_img_path)\n",
    "\n",
    "                    # 确保图像数据类型一致\n",
    "                    original_color_img = original_color_img.astype(np.float64)\n",
    "                    img = img.astype(np.float64)\n",
    "\n",
    "                    # 归一化处理\n",
    "                    original_color_img = original_color_img / 255.0\n",
    "                    img = img / 255.0\n",
    "\n",
    "                    # 计算PSNR和SSIM\n",
    "                    psnr = peak_signal_noise_ratio(original_color_img, img, data_range=1.0)\n",
    "                    ssim = structural_similarity(original_color_img, img, multichannel=True, channel_axis=-1, data_range=1.0)\n",
    "\n",
    "                    total_psnr += psnr\n",
    "                    total_ssim += ssim\n",
    "                    total_samples += 1\n",
    "\n",
    "                    pbar.update(1)\n",
    "                    pbar.set_postfix({\"PSNR\": psnr, \"SSIM\": ssim, \"Time\": elapsed_time})\n",
    "\n",
    "    avg_psnr = total_psnr / total_samples\n",
    "    avg_ssim = total_ssim / total_samples\n",
    "    avg_time = total_time / total_samples\n",
    "\n",
    "    print(f\"Average PSNR: {avg_psnr:.4f}\")\n",
    "    print(f\"Average SSIM: {avg_ssim:.4f}\")\n",
    "    print(f\"Average Time per sample: {avg_time:.4f} seconds\")\n",
    "\n",
    "if __name__ == '__main__':\n",
    "    evaluate()"
   ]
  }
 ],
 "metadata": {
  "kernelspec": {
   "display_name": "Python 3 (ipykernel)",
   "language": "python",
   "name": "python3"
  },
  "language_info": {
   "codemirror_mode": {
    "name": "ipython",
    "version": 3
   },
   "file_extension": ".py",
   "mimetype": "text/x-python",
   "name": "python",
   "nbconvert_exporter": "python",
   "pygments_lexer": "ipython3",
   "version": "3.8.10"
  }
 },
 "nbformat": 4,
 "nbformat_minor": 5
}
